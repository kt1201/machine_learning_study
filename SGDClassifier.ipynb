{
 "cells": [
  {
   "cell_type": "code",
   "execution_count": 1,
   "metadata": {},
   "outputs": [],
   "source": [
    "from sklearn.datasets import load_breast_cancer\n",
    "from sklearn.model_selection import train_test_split\n",
    "from sklearn.linear_model import SGDClassifier\n",
    "import numpy as np"
   ]
  },
  {
   "cell_type": "code",
   "execution_count": 2,
   "metadata": {},
   "outputs": [],
   "source": [
    "cancer = load_breast_cancer()\n",
    "x = cancer.data\n",
    "y = cancer.target\n",
    "x_train, x_test, y_train, y_test = train_test_split(x, y, stratify=y, test_size=0.2, random_state=42)"
   ]
  },
  {
   "cell_type": "code",
   "execution_count": 11,
   "metadata": {},
   "outputs": [
    {
     "name": "stdout",
     "output_type": "stream",
     "text": [
      "364 91\n"
     ]
    }
   ],
   "source": [
    "x_train, x_val, y_train, y_val = train_test_split(x_train, y_train, stratify=y_train, test_size=0.2, random_state=42)\n",
    "print(len(x_train), len(x_val))"
   ]
  },
  {
   "cell_type": "code",
   "execution_count": 12,
   "metadata": {},
   "outputs": [],
   "source": [
    "train_mean = np.mean(x_train, axis=0) # 평균 계산, axis를 0으로 지정하면 2차원 배열 열을 기준으로 통계치를 계산하여 하나의 행 벡터로 반환\n",
    "train_std = np.std(x_train, axis=0) # 표준편차 계산\n",
    "x_train_scaled = (x_train - train_mean) / train_std # train set 표준화 : (특성값 - 평균)/표준편차"
   ]
  },
  {
   "cell_type": "code",
   "execution_count": 13,
   "metadata": {},
   "outputs": [],
   "source": [
    "val_mean = np.mean(x_val, axis=0)\n",
    "val_std = np.std(x_val, axis=0)\n",
    "x_val_scaled = (x_val - val_mean) / val_std"
   ]
  },
  {
   "cell_type": "code",
   "execution_count": 14,
   "metadata": {},
   "outputs": [
    {
     "data": {
      "text/plain": [
       "0.978021978021978"
      ]
     },
     "execution_count": 14,
     "metadata": {},
     "output_type": "execute_result"
    }
   ],
   "source": [
    "sgd = SGDClassifier(loss='log', penalty='l2', alpha=0.001, random_state=42)\n",
    "sgd.fit(x_train_scaled, y_train)\n",
    "sgd.score(x_val_scaled, y_val)"
   ]
  },
  {
   "cell_type": "markdown",
   "metadata": {},
   "source": [
    "# * Cross validation"
   ]
  },
  {
   "cell_type": "code",
   "execution_count": 6,
   "metadata": {},
   "outputs": [
    {
     "name": "stdout",
     "output_type": "stream",
     "text": [
      "0.850096618357488\n"
     ]
    }
   ],
   "source": [
    "from sklearn.model_selection import cross_validate\n",
    "sgd = SGDClassifier(loss='log', penalty='l2', alpha=0.001, random_state=42)\n",
    "scores = cross_validate(sgd, x_train, y_train, cv=10)\n",
    "print(np.mean(scores['test_score']))"
   ]
  },
  {
   "cell_type": "markdown",
   "metadata": {},
   "source": [
    "표준화 처리를 하지 않았기 때문에 낮음.\n",
    "\n",
    "훈련 세트 전체를 전처리 한 후 cross_validation() 함수에 전달하면 검증 폴드 누설\n",
    "\n",
    "# * Pipeline 클래스 사용하여 교차 검증 수행"
   ]
  },
  {
   "cell_type": "code",
   "execution_count": 7,
   "metadata": {},
   "outputs": [
    {
     "name": "stdout",
     "output_type": "stream",
     "text": [
      "0.9694202898550724\n"
     ]
    }
   ],
   "source": [
    "from sklearn.pipeline import make_pipeline # 파이프라인 객체 생성 클래스 임포트\n",
    "from sklearn.preprocessing import StandardScaler # 표준화 전처리 수행하는 클래스 임포트\n",
    "\n",
    "pipe = make_pipeline(StandardScaler(), sgd) # 전처리 단계와 SGDClassifier 클래스를 하나로 연결해주는 Pipeline 클래스 생성\n",
    "scores = cross_validate(pipe, x_train, y_train, cv=10, return_train_score=True)\n",
    "# return_train_score 매개변수를 True로 설정하면 훈련 폴드의 점수도 얻을 수 있음\n",
    "print(np.mean(scores['test_score']))"
   ]
  },
  {
   "cell_type": "code",
   "execution_count": 8,
   "metadata": {},
   "outputs": [
    {
     "name": "stdout",
     "output_type": "stream",
     "text": [
      "0.9875478561631581\n"
     ]
    }
   ],
   "source": [
    "print(np.mean(scores['train_score']))"
   ]
  },
  {
   "cell_type": "code",
   "execution_count": null,
   "metadata": {},
   "outputs": [],
   "source": []
  }
 ],
 "metadata": {
  "kernelspec": {
   "display_name": "test",
   "language": "python",
   "name": "test"
  },
  "language_info": {
   "codemirror_mode": {
    "name": "ipython",
    "version": 3
   },
   "file_extension": ".py",
   "mimetype": "text/x-python",
   "name": "python",
   "nbconvert_exporter": "python",
   "pygments_lexer": "ipython3",
   "version": "3.7.5"
  }
 },
 "nbformat": 4,
 "nbformat_minor": 2
}
